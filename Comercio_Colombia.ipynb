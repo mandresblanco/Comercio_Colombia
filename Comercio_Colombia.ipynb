{
  "nbformat": 4,
  "nbformat_minor": 0,
  "metadata": {
    "colab": {
      "name": "Comercio_Colombia.ipynb",
      "provenance": [],
      "collapsed_sections": [],
      "authorship_tag": "ABX9TyPonSMwCrIbttDwnmbL22TQ",
      "include_colab_link": true
    },
    "kernelspec": {
      "name": "python3",
      "display_name": "Python 3"
    },
    "language_info": {
      "name": "python"
    }
  },
  "cells": [
    {
      "cell_type": "markdown",
      "metadata": {
        "id": "view-in-github",
        "colab_type": "text"
      },
      "source": [
        "<a href=\"https://colab.research.google.com/github/mandresblanco/Comercio_Colombia/blob/main/Comercio_Colombia.ipynb\" target=\"_parent\"><img src=\"https://colab.research.google.com/assets/colab-badge.svg\" alt=\"Open In Colab\"/></a>"
      ]
    },
    {
      "cell_type": "markdown",
      "metadata": {
        "id": "MUhlNrkdMd_Z"
      },
      "source": [
        "Los Datos:\n",
        "En los datos encontrarás información de las exportaciones e importaciones de Colombia de 1962 a 2017. Fueron extraídos del [OEC: The Observatory of Economic Complexity.\n",
        "](https://legacy.oec.world/en/)\n",
        "\n",
        "El objetivo es hacer un análisis exploratorio para encontrar insights valiosos a partir de esos datos.\n",
        "\n",
        "Preguntas:\n",
        "\n",
        "1. ¿Cuál es el top 10 países a los que Colombia exporta sus productos y su evolución con respecto al tiempo?\n",
        "2. ¿Cuál es el top 10 países de los que Colombia importa sus productos y su evolución con respecto al tiempo?\n",
        "3. ¿Existe algún producto que debido a cambios económicos en la oferta/demanda halla causado un decremento en el volumen de dinero que se mueve con él?\n",
        "4. ¿Cuáles sectores económicos tienen mayor importancia en las exportaciones de Colombia y por qué?"
      ]
    },
    {
      "cell_type": "code",
      "metadata": {
        "id": "JGYlZ2qqUV_B"
      },
      "source": [
        "import pandas as pd\n",
        "import numpy as np"
      ],
      "execution_count": null,
      "outputs": []
    },
    {
      "cell_type": "code",
      "metadata": {
        "id": "T3kMmTndPQ3B",
        "colab": {
          "base_uri": "https://localhost:8080/"
        },
        "outputId": "a1a6913f-2efa-456f-8371-2a3c29a8d22d"
      },
      "source": [
        "from google.colab import drive \n",
        "drive.mount('/content/drive')"
      ],
      "execution_count": null,
      "outputs": [
        {
          "output_type": "stream",
          "text": [
            "Drive already mounted at /content/drive; to attempt to forcibly remount, call drive.mount(\"/content/drive\", force_remount=True).\n"
          ],
          "name": "stdout"
        }
      ]
    },
    {
      "cell_type": "code",
      "metadata": {
        "colab": {
          "base_uri": "https://localhost:8080/"
        },
        "id": "p1iIw4rjWbBI",
        "outputId": "448e99a8-0591-43f3-f1bb-c2628c302168"
      },
      "source": [
        "%cd '/content/drive/My Drive/Colab Notebooks/Projects/Triathlon'\n",
        "!ls"
      ],
      "execution_count": null,
      "outputs": [
        {
          "output_type": "stream",
          "text": [
            "/content/drive/My Drive/Colab Notebooks/Projects/Triathlon\n",
            "Triathlondf_colombia_exports.csv  Triathlondf_groups_sitc.csv\n",
            "Triathlondf_colombia_imports.csv  Triathlondf_products_sitc.csv\n",
            "Triathlondf_country_names.csv\n"
          ],
          "name": "stdout"
        }
      ]
    },
    {
      "cell_type": "code",
      "metadata": {
        "colab": {
          "base_uri": "https://localhost:8080/",
          "height": 419
        },
        "id": "iSCbIzQKUu2o",
        "outputId": "ab829cd9-9084-456a-de04-7732b3583dec"
      },
      "source": [
        "df_colombia_exports = pd.read_csv('https://raw.githubusercontent.com/fawkes55/datasets_to_olimpiadas/master/colombia_exports.csv', sep='|')\n",
        "df_colombia_exports"
      ],
      "execution_count": null,
      "outputs": [
        {
          "output_type": "execute_result",
          "data": {
            "text/html": [
              "<div>\n",
              "<style scoped>\n",
              "    .dataframe tbody tr th:only-of-type {\n",
              "        vertical-align: middle;\n",
              "    }\n",
              "\n",
              "    .dataframe tbody tr th {\n",
              "        vertical-align: top;\n",
              "    }\n",
              "\n",
              "    .dataframe thead th {\n",
              "        text-align: right;\n",
              "    }\n",
              "</style>\n",
              "<table border=\"1\" class=\"dataframe\">\n",
              "  <thead>\n",
              "    <tr style=\"text-align: right;\">\n",
              "      <th></th>\n",
              "      <th>Unnamed: 0</th>\n",
              "      <th>year</th>\n",
              "      <th>origin</th>\n",
              "      <th>dest</th>\n",
              "      <th>sitc4</th>\n",
              "      <th>export_val</th>\n",
              "      <th>import_val</th>\n",
              "    </tr>\n",
              "  </thead>\n",
              "  <tbody>\n",
              "    <tr>\n",
              "      <th>0</th>\n",
              "      <td>761444</td>\n",
              "      <td>1962</td>\n",
              "      <td>col</td>\n",
              "      <td>civ</td>\n",
              "      <td>712</td>\n",
              "      <td>0.0</td>\n",
              "      <td>13000.0</td>\n",
              "    </tr>\n",
              "    <tr>\n",
              "      <th>1</th>\n",
              "      <td>761445</td>\n",
              "      <td>1962</td>\n",
              "      <td>col</td>\n",
              "      <td>civ</td>\n",
              "      <td>1210</td>\n",
              "      <td>12000.0</td>\n",
              "      <td>0.0</td>\n",
              "    </tr>\n",
              "    <tr>\n",
              "      <th>2</th>\n",
              "      <td>761446</td>\n",
              "      <td>1962</td>\n",
              "      <td>col</td>\n",
              "      <td>cod</td>\n",
              "      <td>2925</td>\n",
              "      <td>0.0</td>\n",
              "      <td>2000.0</td>\n",
              "    </tr>\n",
              "    <tr>\n",
              "      <th>3</th>\n",
              "      <td>761447</td>\n",
              "      <td>1962</td>\n",
              "      <td>col</td>\n",
              "      <td>cog</td>\n",
              "      <td>2925</td>\n",
              "      <td>0.0</td>\n",
              "      <td>2000.0</td>\n",
              "    </tr>\n",
              "    <tr>\n",
              "      <th>4</th>\n",
              "      <td>761448</td>\n",
              "      <td>1962</td>\n",
              "      <td>col</td>\n",
              "      <td>dza</td>\n",
              "      <td>1210</td>\n",
              "      <td>112000.0</td>\n",
              "      <td>0.0</td>\n",
              "    </tr>\n",
              "    <tr>\n",
              "      <th>...</th>\n",
              "      <td>...</td>\n",
              "      <td>...</td>\n",
              "      <td>...</td>\n",
              "      <td>...</td>\n",
              "      <td>...</td>\n",
              "      <td>...</td>\n",
              "      <td>...</td>\n",
              "    </tr>\n",
              "    <tr>\n",
              "      <th>799401</th>\n",
              "      <td>124876488</td>\n",
              "      <td>2017</td>\n",
              "      <td>col</td>\n",
              "      <td>ury</td>\n",
              "      <td>6658</td>\n",
              "      <td>NaN</td>\n",
              "      <td>8658.0</td>\n",
              "    </tr>\n",
              "    <tr>\n",
              "      <th>799402</th>\n",
              "      <td>124876489</td>\n",
              "      <td>2017</td>\n",
              "      <td>col</td>\n",
              "      <td>ury</td>\n",
              "      <td>8924</td>\n",
              "      <td>4285.5</td>\n",
              "      <td>NaN</td>\n",
              "    </tr>\n",
              "    <tr>\n",
              "      <th>799403</th>\n",
              "      <td>124876490</td>\n",
              "      <td>2017</td>\n",
              "      <td>col</td>\n",
              "      <td>ury</td>\n",
              "      <td>8928</td>\n",
              "      <td>25667.5</td>\n",
              "      <td>3816.5</td>\n",
              "    </tr>\n",
              "    <tr>\n",
              "      <th>799404</th>\n",
              "      <td>124876491</td>\n",
              "      <td>2017</td>\n",
              "      <td>col</td>\n",
              "      <td>ury</td>\n",
              "      <td>8972</td>\n",
              "      <td>5306.0</td>\n",
              "      <td>500.0</td>\n",
              "    </tr>\n",
              "    <tr>\n",
              "      <th>799405</th>\n",
              "      <td>124876492</td>\n",
              "      <td>2017</td>\n",
              "      <td>col</td>\n",
              "      <td>ury</td>\n",
              "      <td>9310</td>\n",
              "      <td>10063053.0</td>\n",
              "      <td>5500539.5</td>\n",
              "    </tr>\n",
              "  </tbody>\n",
              "</table>\n",
              "<p>799406 rows × 7 columns</p>\n",
              "</div>"
            ],
            "text/plain": [
              "        Unnamed: 0  year origin dest  sitc4  export_val  import_val\n",
              "0           761444  1962    col  civ    712         0.0     13000.0\n",
              "1           761445  1962    col  civ   1210     12000.0         0.0\n",
              "2           761446  1962    col  cod   2925         0.0      2000.0\n",
              "3           761447  1962    col  cog   2925         0.0      2000.0\n",
              "4           761448  1962    col  dza   1210    112000.0         0.0\n",
              "...            ...   ...    ...  ...    ...         ...         ...\n",
              "799401   124876488  2017    col  ury   6658         NaN      8658.0\n",
              "799402   124876489  2017    col  ury   8924      4285.5         NaN\n",
              "799403   124876490  2017    col  ury   8928     25667.5      3816.5\n",
              "799404   124876491  2017    col  ury   8972      5306.0       500.0\n",
              "799405   124876492  2017    col  ury   9310  10063053.0   5500539.5\n",
              "\n",
              "[799406 rows x 7 columns]"
            ]
          },
          "metadata": {
            "tags": []
          },
          "execution_count": 2
        }
      ]
    },
    {
      "cell_type": "markdown",
      "metadata": {
        "id": "M7DQOd4bfa9M"
      },
      "source": [
        "Primera tabla, continene informacion sobre las [exportaciones de colombia desde 1962 hasta 2017.](https://raw.githubusercontent.com/fawkes55/datasets_to_olimpiadas/master/colombia_exports.csv)\n"
      ]
    },
    {
      "cell_type": "code",
      "metadata": {
        "colab": {
          "base_uri": "https://localhost:8080/",
          "height": 419
        },
        "id": "8HgkjnsCVSy6",
        "outputId": "587a0641-bb33-4e96-abff-a5eddd566704"
      },
      "source": [
        "df_colombia_imports= pd.read_csv('https://raw.githubusercontent.com/fawkes55/datasets_to_olimpiadas/master/colombia_imports.csv', sep=\"|\")\n",
        "df_colombia_imports"
      ],
      "execution_count": null,
      "outputs": [
        {
          "output_type": "execute_result",
          "data": {
            "text/html": [
              "<div>\n",
              "<style scoped>\n",
              "    .dataframe tbody tr th:only-of-type {\n",
              "        vertical-align: middle;\n",
              "    }\n",
              "\n",
              "    .dataframe tbody tr th {\n",
              "        vertical-align: top;\n",
              "    }\n",
              "\n",
              "    .dataframe thead th {\n",
              "        text-align: right;\n",
              "    }\n",
              "</style>\n",
              "<table border=\"1\" class=\"dataframe\">\n",
              "  <thead>\n",
              "    <tr style=\"text-align: right;\">\n",
              "      <th></th>\n",
              "      <th>Unnamed: 0</th>\n",
              "      <th>year</th>\n",
              "      <th>origin</th>\n",
              "      <th>dest</th>\n",
              "      <th>sitc4</th>\n",
              "      <th>export_val</th>\n",
              "      <th>import_val</th>\n",
              "    </tr>\n",
              "  </thead>\n",
              "  <tbody>\n",
              "    <tr>\n",
              "      <th>0</th>\n",
              "      <td>11564</td>\n",
              "      <td>1962</td>\n",
              "      <td>civ</td>\n",
              "      <td>col</td>\n",
              "      <td>712</td>\n",
              "      <td>13000.0</td>\n",
              "      <td>0.0</td>\n",
              "    </tr>\n",
              "    <tr>\n",
              "      <th>1</th>\n",
              "      <td>11565</td>\n",
              "      <td>1962</td>\n",
              "      <td>civ</td>\n",
              "      <td>col</td>\n",
              "      <td>1210</td>\n",
              "      <td>0.0</td>\n",
              "      <td>12000.0</td>\n",
              "    </tr>\n",
              "    <tr>\n",
              "      <th>2</th>\n",
              "      <td>17741</td>\n",
              "      <td>1962</td>\n",
              "      <td>cod</td>\n",
              "      <td>col</td>\n",
              "      <td>2925</td>\n",
              "      <td>2000.0</td>\n",
              "      <td>0.0</td>\n",
              "    </tr>\n",
              "    <tr>\n",
              "      <th>3</th>\n",
              "      <td>20216</td>\n",
              "      <td>1962</td>\n",
              "      <td>cog</td>\n",
              "      <td>col</td>\n",
              "      <td>2925</td>\n",
              "      <td>2000.0</td>\n",
              "      <td>0.0</td>\n",
              "    </tr>\n",
              "    <tr>\n",
              "      <th>4</th>\n",
              "      <td>25005</td>\n",
              "      <td>1962</td>\n",
              "      <td>dza</td>\n",
              "      <td>col</td>\n",
              "      <td>1210</td>\n",
              "      <td>0.0</td>\n",
              "      <td>112000.0</td>\n",
              "    </tr>\n",
              "    <tr>\n",
              "      <th>...</th>\n",
              "      <td>...</td>\n",
              "      <td>...</td>\n",
              "      <td>...</td>\n",
              "      <td>...</td>\n",
              "      <td>...</td>\n",
              "      <td>...</td>\n",
              "      <td>...</td>\n",
              "    </tr>\n",
              "    <tr>\n",
              "      <th>775897</th>\n",
              "      <td>124923798</td>\n",
              "      <td>2017</td>\n",
              "      <td>ury</td>\n",
              "      <td>col</td>\n",
              "      <td>6658</td>\n",
              "      <td>8658.0</td>\n",
              "      <td>NaN</td>\n",
              "    </tr>\n",
              "    <tr>\n",
              "      <th>775898</th>\n",
              "      <td>124923799</td>\n",
              "      <td>2017</td>\n",
              "      <td>ury</td>\n",
              "      <td>col</td>\n",
              "      <td>8924</td>\n",
              "      <td>NaN</td>\n",
              "      <td>4285.5</td>\n",
              "    </tr>\n",
              "    <tr>\n",
              "      <th>775899</th>\n",
              "      <td>124923800</td>\n",
              "      <td>2017</td>\n",
              "      <td>ury</td>\n",
              "      <td>col</td>\n",
              "      <td>8928</td>\n",
              "      <td>3816.5</td>\n",
              "      <td>25667.5</td>\n",
              "    </tr>\n",
              "    <tr>\n",
              "      <th>775900</th>\n",
              "      <td>124923801</td>\n",
              "      <td>2017</td>\n",
              "      <td>ury</td>\n",
              "      <td>col</td>\n",
              "      <td>8972</td>\n",
              "      <td>500.0</td>\n",
              "      <td>5306.0</td>\n",
              "    </tr>\n",
              "    <tr>\n",
              "      <th>775901</th>\n",
              "      <td>124923802</td>\n",
              "      <td>2017</td>\n",
              "      <td>ury</td>\n",
              "      <td>col</td>\n",
              "      <td>9310</td>\n",
              "      <td>5500539.5</td>\n",
              "      <td>10063053.0</td>\n",
              "    </tr>\n",
              "  </tbody>\n",
              "</table>\n",
              "<p>775902 rows × 7 columns</p>\n",
              "</div>"
            ],
            "text/plain": [
              "        Unnamed: 0  year origin dest  sitc4  export_val  import_val\n",
              "0            11564  1962    civ  col    712     13000.0         0.0\n",
              "1            11565  1962    civ  col   1210         0.0     12000.0\n",
              "2            17741  1962    cod  col   2925      2000.0         0.0\n",
              "3            20216  1962    cog  col   2925      2000.0         0.0\n",
              "4            25005  1962    dza  col   1210         0.0    112000.0\n",
              "...            ...   ...    ...  ...    ...         ...         ...\n",
              "775897   124923798  2017    ury  col   6658      8658.0         NaN\n",
              "775898   124923799  2017    ury  col   8924         NaN      4285.5\n",
              "775899   124923800  2017    ury  col   8928      3816.5     25667.5\n",
              "775900   124923801  2017    ury  col   8972       500.0      5306.0\n",
              "775901   124923802  2017    ury  col   9310   5500539.5  10063053.0\n",
              "\n",
              "[775902 rows x 7 columns]"
            ]
          },
          "metadata": {
            "tags": []
          },
          "execution_count": 3
        }
      ]
    },
    {
      "cell_type": "markdown",
      "metadata": {
        "id": "UPlPfzJFgG72"
      },
      "source": [
        "Segunda tabla, continene informacion sobre las [importaciones de colombia desde 1962 hasta 2017.](https://raw.githubusercontent.com/fawkes55/datasets_to_olimpiadas/master/colombia_imports.csv)"
      ]
    },
    {
      "cell_type": "code",
      "metadata": {
        "colab": {
          "base_uri": "https://localhost:8080/",
          "height": 473
        },
        "id": "gagb45N2Ve0v",
        "outputId": "927677a5-32af-4c00-b3aa-ec7aa82d22a5"
      },
      "source": [
        "df_country_names = pd.read_csv('https://raw.githubusercontent.com/fawkes55/datasets_to_olimpiadas/master/country_names.csv', sep=\"|\", skipfooter=2)\n",
        "df_country_names"
      ],
      "execution_count": null,
      "outputs": [
        {
          "output_type": "stream",
          "text": [
            "/usr/local/lib/python3.7/dist-packages/ipykernel_launcher.py:1: ParserWarning: Falling back to the 'python' engine because the 'c' engine does not support skipfooter; you can avoid this warning by specifying engine='python'.\n",
            "  \"\"\"Entry point for launching an IPython kernel.\n"
          ],
          "name": "stderr"
        },
        {
          "output_type": "execute_result",
          "data": {
            "text/html": [
              "<div>\n",
              "<style scoped>\n",
              "    .dataframe tbody tr th:only-of-type {\n",
              "        vertical-align: middle;\n",
              "    }\n",
              "\n",
              "    .dataframe tbody tr th {\n",
              "        vertical-align: top;\n",
              "    }\n",
              "\n",
              "    .dataframe thead th {\n",
              "        text-align: right;\n",
              "    }\n",
              "</style>\n",
              "<table border=\"1\" class=\"dataframe\">\n",
              "  <thead>\n",
              "    <tr style=\"text-align: right;\">\n",
              "      <th></th>\n",
              "      <th>Unnamed: 0</th>\n",
              "      <th>id</th>\n",
              "      <th>id_3char</th>\n",
              "      <th>name</th>\n",
              "    </tr>\n",
              "  </thead>\n",
              "  <tbody>\n",
              "    <tr>\n",
              "      <th>0</th>\n",
              "      <td>0</td>\n",
              "      <td>afago</td>\n",
              "      <td>ago</td>\n",
              "      <td>Angola</td>\n",
              "    </tr>\n",
              "    <tr>\n",
              "      <th>1</th>\n",
              "      <td>1</td>\n",
              "      <td>afbdi</td>\n",
              "      <td>bdi</td>\n",
              "      <td>Burundi</td>\n",
              "    </tr>\n",
              "    <tr>\n",
              "      <th>2</th>\n",
              "      <td>2</td>\n",
              "      <td>afben</td>\n",
              "      <td>ben</td>\n",
              "      <td>Benin</td>\n",
              "    </tr>\n",
              "    <tr>\n",
              "      <th>3</th>\n",
              "      <td>3</td>\n",
              "      <td>afbfa</td>\n",
              "      <td>bfa</td>\n",
              "      <td>Burkina Faso</td>\n",
              "    </tr>\n",
              "    <tr>\n",
              "      <th>4</th>\n",
              "      <td>4</td>\n",
              "      <td>afbwa</td>\n",
              "      <td>bwa</td>\n",
              "      <td>Botswana</td>\n",
              "    </tr>\n",
              "    <tr>\n",
              "      <th>...</th>\n",
              "      <td>...</td>\n",
              "      <td>...</td>\n",
              "      <td>...</td>\n",
              "      <td>...</td>\n",
              "    </tr>\n",
              "    <tr>\n",
              "      <th>256</th>\n",
              "      <td>256</td>\n",
              "      <td>saper</td>\n",
              "      <td>per</td>\n",
              "      <td>Peru</td>\n",
              "    </tr>\n",
              "    <tr>\n",
              "      <th>257</th>\n",
              "      <td>257</td>\n",
              "      <td>sapry</td>\n",
              "      <td>pry</td>\n",
              "      <td>Paraguay</td>\n",
              "    </tr>\n",
              "    <tr>\n",
              "      <th>258</th>\n",
              "      <td>258</td>\n",
              "      <td>sasur</td>\n",
              "      <td>sur</td>\n",
              "      <td>Suriname</td>\n",
              "    </tr>\n",
              "    <tr>\n",
              "      <th>259</th>\n",
              "      <td>259</td>\n",
              "      <td>saury</td>\n",
              "      <td>ury</td>\n",
              "      <td>Uruguay</td>\n",
              "    </tr>\n",
              "    <tr>\n",
              "      <th>260</th>\n",
              "      <td>260</td>\n",
              "      <td>saven</td>\n",
              "      <td>ven</td>\n",
              "      <td>Venezuela</td>\n",
              "    </tr>\n",
              "  </tbody>\n",
              "</table>\n",
              "<p>261 rows × 4 columns</p>\n",
              "</div>"
            ],
            "text/plain": [
              "     Unnamed: 0     id id_3char          name\n",
              "0             0  afago      ago        Angola\n",
              "1             1  afbdi      bdi       Burundi\n",
              "2             2  afben      ben         Benin\n",
              "3             3  afbfa      bfa  Burkina Faso\n",
              "4             4  afbwa      bwa      Botswana\n",
              "..          ...    ...      ...           ...\n",
              "256         256  saper      per          Peru\n",
              "257         257  sapry      pry      Paraguay\n",
              "258         258  sasur      sur      Suriname\n",
              "259         259  saury      ury       Uruguay\n",
              "260         260  saven      ven     Venezuela\n",
              "\n",
              "[261 rows x 4 columns]"
            ]
          },
          "metadata": {
            "tags": []
          },
          "execution_count": 4
        }
      ]
    },
    {
      "cell_type": "markdown",
      "metadata": {
        "id": "1x6M09zCgSz_"
      },
      "source": [
        "Tercera tabla, contiene informacion de los paises [ y sus diminutivos.](https://raw.githubusercontent.com/fawkes55/datasets_to_olimpiadas/master/country_names.csv)"
      ]
    },
    {
      "cell_type": "code",
      "metadata": {
        "colab": {
          "base_uri": "https://localhost:8080/",
          "height": 419
        },
        "id": "uOHdliQwViTm",
        "outputId": "726f665a-aeda-442c-b669-9d3c92dfbba6"
      },
      "source": [
        "df_groups_sitc = pd.read_csv('https://raw.githubusercontent.com/fawkes55/datasets_to_olimpiadas/master/groups_sitc_rev2.csv', sep=\"|\")\n",
        "df_groups_sitc"
      ],
      "execution_count": null,
      "outputs": [
        {
          "output_type": "execute_result",
          "data": {
            "text/html": [
              "<div>\n",
              "<style scoped>\n",
              "    .dataframe tbody tr th:only-of-type {\n",
              "        vertical-align: middle;\n",
              "    }\n",
              "\n",
              "    .dataframe tbody tr th {\n",
              "        vertical-align: top;\n",
              "    }\n",
              "\n",
              "    .dataframe thead th {\n",
              "        text-align: right;\n",
              "    }\n",
              "</style>\n",
              "<table border=\"1\" class=\"dataframe\">\n",
              "  <thead>\n",
              "    <tr style=\"text-align: right;\">\n",
              "      <th></th>\n",
              "      <th>Unnamed: 0</th>\n",
              "      <th>id</th>\n",
              "      <th>category</th>\n",
              "    </tr>\n",
              "  </thead>\n",
              "  <tbody>\n",
              "    <tr>\n",
              "      <th>0</th>\n",
              "      <td>1</td>\n",
              "      <td>0</td>\n",
              "      <td>Live animals other than animals of division 03</td>\n",
              "    </tr>\n",
              "    <tr>\n",
              "      <th>1</th>\n",
              "      <td>2</td>\n",
              "      <td>1</td>\n",
              "      <td>Meat and meat preparations</td>\n",
              "    </tr>\n",
              "    <tr>\n",
              "      <th>2</th>\n",
              "      <td>3</td>\n",
              "      <td>2</td>\n",
              "      <td>Dairy products and birds' eggs</td>\n",
              "    </tr>\n",
              "    <tr>\n",
              "      <th>3</th>\n",
              "      <td>4</td>\n",
              "      <td>3</td>\n",
              "      <td>Fish, crustaceans, molluscs and preparations t...</td>\n",
              "    </tr>\n",
              "    <tr>\n",
              "      <th>4</th>\n",
              "      <td>5</td>\n",
              "      <td>4</td>\n",
              "      <td>Cereals and cereal preparations</td>\n",
              "    </tr>\n",
              "    <tr>\n",
              "      <th>...</th>\n",
              "      <td>...</td>\n",
              "      <td>...</td>\n",
              "      <td>...</td>\n",
              "    </tr>\n",
              "    <tr>\n",
              "      <th>60</th>\n",
              "      <td>61</td>\n",
              "      <td>87</td>\n",
              "      <td>Professional and scientific instruments, n.e.s.</td>\n",
              "    </tr>\n",
              "    <tr>\n",
              "      <th>61</th>\n",
              "      <td>62</td>\n",
              "      <td>88</td>\n",
              "      <td>Photo apparatus, optical goods, watches and cl...</td>\n",
              "    </tr>\n",
              "    <tr>\n",
              "      <th>62</th>\n",
              "      <td>63</td>\n",
              "      <td>89</td>\n",
              "      <td>Miscellaneous manufactured articles, n.e.s.</td>\n",
              "    </tr>\n",
              "    <tr>\n",
              "      <th>63</th>\n",
              "      <td>64</td>\n",
              "      <td>96</td>\n",
              "      <td>Coin (other than gold coin), not being legal t...</td>\n",
              "    </tr>\n",
              "    <tr>\n",
              "      <th>64</th>\n",
              "      <td>65</td>\n",
              "      <td>97</td>\n",
              "      <td>Gold, non-monetary (excluding gold ores and co...</td>\n",
              "    </tr>\n",
              "  </tbody>\n",
              "</table>\n",
              "<p>65 rows × 3 columns</p>\n",
              "</div>"
            ],
            "text/plain": [
              "    Unnamed: 0  id                                           category\n",
              "0            1   0     Live animals other than animals of division 03\n",
              "1            2   1                         Meat and meat preparations\n",
              "2            3   2                     Dairy products and birds' eggs\n",
              "3            4   3  Fish, crustaceans, molluscs and preparations t...\n",
              "4            5   4                    Cereals and cereal preparations\n",
              "..         ...  ..                                                ...\n",
              "60          61  87    Professional and scientific instruments, n.e.s.\n",
              "61          62  88  Photo apparatus, optical goods, watches and cl...\n",
              "62          63  89        Miscellaneous manufactured articles, n.e.s.\n",
              "63          64  96  Coin (other than gold coin), not being legal t...\n",
              "64          65  97  Gold, non-monetary (excluding gold ores and co...\n",
              "\n",
              "[65 rows x 3 columns]"
            ]
          },
          "metadata": {
            "tags": []
          },
          "execution_count": 5
        }
      ]
    },
    {
      "cell_type": "markdown",
      "metadata": {
        "id": "6HR1G-uShXRc"
      },
      "source": [
        "Cuarta tabla, contiene informacion relacionada con las [categorias de la transaccion comercial.\n",
        "](https://raw.githubusercontent.com/fawkes55/datasets_to_olimpiadas/master/groups_sitc_rev2.csv)"
      ]
    },
    {
      "cell_type": "code",
      "metadata": {
        "colab": {
          "base_uri": "https://localhost:8080/",
          "height": 419
        },
        "id": "-6HRFPTvVrM3",
        "outputId": "51fda556-a967-4cb6-c460-0d593e02e09a"
      },
      "source": [
        "df_products_sitc = pd.read_csv('https://raw.githubusercontent.com/fawkes55/datasets_to_olimpiadas/master/products_sitc_rev2.csv', sep=\"|\")\n",
        "df_products_sitc"
      ],
      "execution_count": null,
      "outputs": [
        {
          "output_type": "execute_result",
          "data": {
            "text/html": [
              "<div>\n",
              "<style scoped>\n",
              "    .dataframe tbody tr th:only-of-type {\n",
              "        vertical-align: middle;\n",
              "    }\n",
              "\n",
              "    .dataframe tbody tr th {\n",
              "        vertical-align: top;\n",
              "    }\n",
              "\n",
              "    .dataframe thead th {\n",
              "        text-align: right;\n",
              "    }\n",
              "</style>\n",
              "<table border=\"1\" class=\"dataframe\">\n",
              "  <thead>\n",
              "    <tr style=\"text-align: right;\">\n",
              "      <th></th>\n",
              "      <th>Unnamed: 0</th>\n",
              "      <th>id</th>\n",
              "      <th>sitc</th>\n",
              "      <th>name</th>\n",
              "    </tr>\n",
              "  </thead>\n",
              "  <tbody>\n",
              "    <tr>\n",
              "      <th>0</th>\n",
              "      <td>0</td>\n",
              "      <td>105722</td>\n",
              "      <td>5722</td>\n",
              "      <td>Initiating Devices</td>\n",
              "    </tr>\n",
              "    <tr>\n",
              "      <th>1</th>\n",
              "      <td>1</td>\n",
              "      <td>105838</td>\n",
              "      <td>5838</td>\n",
              "      <td>Polymerization Ion Exchangers</td>\n",
              "    </tr>\n",
              "    <tr>\n",
              "      <th>2</th>\n",
              "      <td>2</td>\n",
              "      <td>106250</td>\n",
              "      <td>6250</td>\n",
              "      <td>Rubber tires, tire cases, inner and flaps, for...</td>\n",
              "    </tr>\n",
              "    <tr>\n",
              "      <th>3</th>\n",
              "      <td>3</td>\n",
              "      <td>106251</td>\n",
              "      <td>6251</td>\n",
              "      <td>Car Tires</td>\n",
              "    </tr>\n",
              "    <tr>\n",
              "      <th>4</th>\n",
              "      <td>4</td>\n",
              "      <td>106280</td>\n",
              "      <td>6280</td>\n",
              "      <td>Other articles of rubber</td>\n",
              "    </tr>\n",
              "    <tr>\n",
              "      <th>...</th>\n",
              "      <td>...</td>\n",
              "      <td>...</td>\n",
              "      <td>...</td>\n",
              "      <td>...</td>\n",
              "    </tr>\n",
              "    <tr>\n",
              "      <th>983</th>\n",
              "      <td>983</td>\n",
              "      <td>909310</td>\n",
              "      <td>9310</td>\n",
              "      <td>Unclassified Transactions</td>\n",
              "    </tr>\n",
              "    <tr>\n",
              "      <th>984</th>\n",
              "      <td>984</td>\n",
              "      <td>909410</td>\n",
              "      <td>9410</td>\n",
              "      <td>Miscellaneous Live Animals</td>\n",
              "    </tr>\n",
              "    <tr>\n",
              "      <th>985</th>\n",
              "      <td>985</td>\n",
              "      <td>909610</td>\n",
              "      <td>9610</td>\n",
              "      <td>Non-Gold Coin</td>\n",
              "    </tr>\n",
              "    <tr>\n",
              "      <th>986</th>\n",
              "      <td>986</td>\n",
              "      <td>xx0010</td>\n",
              "      <td>10</td>\n",
              "      <td>Live animals chiefly for food</td>\n",
              "    </tr>\n",
              "    <tr>\n",
              "      <th>987</th>\n",
              "      <td>987</td>\n",
              "      <td>xx0110</td>\n",
              "      <td>110</td>\n",
              "      <td>Meat</td>\n",
              "    </tr>\n",
              "  </tbody>\n",
              "</table>\n",
              "<p>988 rows × 4 columns</p>\n",
              "</div>"
            ],
            "text/plain": [
              "     Unnamed: 0  ...                                               name\n",
              "0             0  ...                                 Initiating Devices\n",
              "1             1  ...                      Polymerization Ion Exchangers\n",
              "2             2  ...  Rubber tires, tire cases, inner and flaps, for...\n",
              "3             3  ...                                          Car Tires\n",
              "4             4  ...                           Other articles of rubber\n",
              "..          ...  ...                                                ...\n",
              "983         983  ...                          Unclassified Transactions\n",
              "984         984  ...                         Miscellaneous Live Animals\n",
              "985         985  ...                                      Non-Gold Coin\n",
              "986         986  ...                      Live animals chiefly for food\n",
              "987         987  ...                                               Meat\n",
              "\n",
              "[988 rows x 4 columns]"
            ]
          },
          "metadata": {
            "tags": []
          },
          "execution_count": 6
        }
      ]
    },
    {
      "cell_type": "markdown",
      "metadata": {
        "id": "tAxvjr1eh12N"
      },
      "source": [
        "Quinta tabla, contiene informacion [relacionada con titc](https://raw.githubusercontent.com/fawkes55/datasets_to_olimpiadas/master/products_sitc_rev2.csv) (Standard International Trade Classification) "
      ]
    },
    {
      "cell_type": "markdown",
      "metadata": {
        "id": "ZoXaI5g3is5l"
      },
      "source": [
        "1. Se relaciona la primera tabla con la segunda en la columna sitc4.\n",
        "2. Se relaciona la primera tabla con la tercera con el diminutivo de los paises.\n",
        "3. Se relaciona la primera tabla con la quinta por el sitc.\n"
      ]
    },
    {
      "cell_type": "code",
      "metadata": {
        "id": "6woR4UY7Vxdf"
      },
      "source": [
        "direct1 = '/content/drive/My Drive/Colab Notebooks/Projects/Triathlon{}'\n",
        "df_colombia_exports.to_csv(direct1.format('df_colombia_exports.csv'))\n",
        "\n",
        "direct2 = '/content/drive/My Drive/Colab Notebooks/Projects/Triathlon{}'\n",
        "df_colombia_imports.to_csv(direct2.format('df_colombia_imports.csv'))\n",
        "\n",
        "direct3 = '/content/drive/My Drive/Colab Notebooks/Projects/Triathlon{}'\n",
        "df_country_names.to_csv(direct3.format('df_country_names.csv'))\n",
        "\n",
        "direct4 = '/content/drive/My Drive/Colab Notebooks/Projects/Triathlon{}'\n",
        "df_groups_sitc.to_csv(direct4.format('df_groups_sitc.csv'))\n",
        "\n",
        "direct5 = '/content/drive/My Drive/Colab Notebooks/Projects/Triathlon{}'\n",
        "df_products_sitc.to_csv(direct5.format('df_products_sitc.csv'))\n"
      ],
      "execution_count": null,
      "outputs": []
    },
    {
      "cell_type": "markdown",
      "metadata": {
        "id": "U1oh9jkdMpUo"
      },
      "source": [
        "Por preferencia personal prefiero ver los datasets desde excel, por eso los he exportado.\n"
      ]
    },
    {
      "cell_type": "code",
      "metadata": {
        "colab": {
          "base_uri": "https://localhost:8080/"
        },
        "id": "SNjqyfVCVeih",
        "outputId": "401006c3-7970-4935-dce2-58ff9498b6d2"
      },
      "source": [
        "# df_colombia_exports.shape\n",
        "df_colombia_exports = df_colombia_exports.fillna(0)\n",
        "df_colombia_exports.isnull().sum(axis = 0)"
      ],
      "execution_count": null,
      "outputs": [
        {
          "output_type": "execute_result",
          "data": {
            "text/plain": [
              "Unnamed: 0    0\n",
              "year          0\n",
              "origin        0\n",
              "dest          0\n",
              "sitc4         0\n",
              "export_val    0\n",
              "import_val    0\n",
              "dtype: int64"
            ]
          },
          "metadata": {
            "tags": []
          },
          "execution_count": 24
        }
      ]
    },
    {
      "cell_type": "code",
      "metadata": {
        "colab": {
          "base_uri": "https://localhost:8080/"
        },
        "id": "34gEDFbKVmYl",
        "outputId": "ccfad64b-2919-4998-8a2c-b49fe224f798"
      },
      "source": [
        "# df_colombia_imports.shape\n",
        "df_colombia_imports = df_colombia_imports.fillna(0)\n",
        "\n",
        "df_colombia_imports.isnull().sum(axis = 0)"
      ],
      "execution_count": null,
      "outputs": [
        {
          "output_type": "execute_result",
          "data": {
            "text/plain": [
              "Unnamed: 0    0\n",
              "year          0\n",
              "origin        0\n",
              "dest          0\n",
              "sitc4         0\n",
              "export_val    0\n",
              "import_val    0\n",
              "dtype: int64"
            ]
          },
          "metadata": {
            "tags": []
          },
          "execution_count": 25
        }
      ]
    },
    {
      "cell_type": "markdown",
      "metadata": {
        "id": "pLRNwMAolOEW"
      },
      "source": [
        "Limpieza de valores null"
      ]
    },
    {
      "cell_type": "code",
      "metadata": {
        "id": "I4Hvug4qQVe_",
        "colab": {
          "base_uri": "https://localhost:8080/",
          "height": 419
        },
        "outputId": "1a216745-8711-45c8-c550-3b025510ebdc"
      },
      "source": [
        "# print(df_colombia_imports.head(), '\\n', df_colombia_exports.head())\n",
        "df_col_exp =  pd.merge(df_colombia_exports[['year', 'origin', 'dest',  'sitc4',  'export_val',  'import_val']],\n",
        "                    df_products_sitc[['name','sitc']], left_on = ['sitc4'], right_on='sitc', how = 'inner')\n",
        "\n",
        "df_col_exp =  pd.merge(df_col_exp[['year', 'origin', 'dest',  'export_val',  'import_val']],\n",
        "                    df_country_names[['id_3char','name']], left_on = ['dest'], right_on='id_3char', how = 'inner')\n",
        "df_col_exp = df_col_exp.drop(columns='id_3char')\n",
        "df_col_exp"
      ],
      "execution_count": null,
      "outputs": [
        {
          "output_type": "execute_result",
          "data": {
            "text/html": [
              "<div>\n",
              "<style scoped>\n",
              "    .dataframe tbody tr th:only-of-type {\n",
              "        vertical-align: middle;\n",
              "    }\n",
              "\n",
              "    .dataframe tbody tr th {\n",
              "        vertical-align: top;\n",
              "    }\n",
              "\n",
              "    .dataframe thead th {\n",
              "        text-align: right;\n",
              "    }\n",
              "</style>\n",
              "<table border=\"1\" class=\"dataframe\">\n",
              "  <thead>\n",
              "    <tr style=\"text-align: right;\">\n",
              "      <th></th>\n",
              "      <th>year</th>\n",
              "      <th>origin</th>\n",
              "      <th>dest</th>\n",
              "      <th>export_val</th>\n",
              "      <th>import_val</th>\n",
              "      <th>name</th>\n",
              "    </tr>\n",
              "  </thead>\n",
              "  <tbody>\n",
              "    <tr>\n",
              "      <th>0</th>\n",
              "      <td>1962</td>\n",
              "      <td>col</td>\n",
              "      <td>civ</td>\n",
              "      <td>0.0</td>\n",
              "      <td>13000.0</td>\n",
              "      <td>Cote d'Ivoire</td>\n",
              "    </tr>\n",
              "    <tr>\n",
              "      <th>1</th>\n",
              "      <td>2006</td>\n",
              "      <td>col</td>\n",
              "      <td>civ</td>\n",
              "      <td>23572.0</td>\n",
              "      <td>0.0</td>\n",
              "      <td>Cote d'Ivoire</td>\n",
              "    </tr>\n",
              "    <tr>\n",
              "      <th>2</th>\n",
              "      <td>1962</td>\n",
              "      <td>col</td>\n",
              "      <td>civ</td>\n",
              "      <td>12000.0</td>\n",
              "      <td>0.0</td>\n",
              "      <td>Cote d'Ivoire</td>\n",
              "    </tr>\n",
              "    <tr>\n",
              "      <th>3</th>\n",
              "      <td>1971</td>\n",
              "      <td>col</td>\n",
              "      <td>civ</td>\n",
              "      <td>9000.0</td>\n",
              "      <td>0.0</td>\n",
              "      <td>Cote d'Ivoire</td>\n",
              "    </tr>\n",
              "    <tr>\n",
              "      <th>4</th>\n",
              "      <td>1972</td>\n",
              "      <td>col</td>\n",
              "      <td>civ</td>\n",
              "      <td>7000.0</td>\n",
              "      <td>0.0</td>\n",
              "      <td>Cote d'Ivoire</td>\n",
              "    </tr>\n",
              "    <tr>\n",
              "      <th>...</th>\n",
              "      <td>...</td>\n",
              "      <td>...</td>\n",
              "      <td>...</td>\n",
              "      <td>...</td>\n",
              "      <td>...</td>\n",
              "      <td>...</td>\n",
              "    </tr>\n",
              "    <tr>\n",
              "      <th>782626</th>\n",
              "      <td>2009</td>\n",
              "      <td>col</td>\n",
              "      <td>mnp</td>\n",
              "      <td>0.0</td>\n",
              "      <td>3588.0</td>\n",
              "      <td>Northern Mariana Islands</td>\n",
              "    </tr>\n",
              "    <tr>\n",
              "      <th>782627</th>\n",
              "      <td>2010</td>\n",
              "      <td>col</td>\n",
              "      <td>mnp</td>\n",
              "      <td>0.0</td>\n",
              "      <td>627.0</td>\n",
              "      <td>Northern Mariana Islands</td>\n",
              "    </tr>\n",
              "    <tr>\n",
              "      <th>782628</th>\n",
              "      <td>2012</td>\n",
              "      <td>col</td>\n",
              "      <td>mnp</td>\n",
              "      <td>0.0</td>\n",
              "      <td>197.0</td>\n",
              "      <td>Northern Mariana Islands</td>\n",
              "    </tr>\n",
              "    <tr>\n",
              "      <th>782629</th>\n",
              "      <td>2004</td>\n",
              "      <td>col</td>\n",
              "      <td>mnp</td>\n",
              "      <td>2170.0</td>\n",
              "      <td>0.0</td>\n",
              "      <td>Northern Mariana Islands</td>\n",
              "    </tr>\n",
              "    <tr>\n",
              "      <th>782630</th>\n",
              "      <td>1999</td>\n",
              "      <td>col</td>\n",
              "      <td>mnp</td>\n",
              "      <td>42804.0</td>\n",
              "      <td>0.0</td>\n",
              "      <td>Northern Mariana Islands</td>\n",
              "    </tr>\n",
              "  </tbody>\n",
              "</table>\n",
              "<p>782631 rows × 6 columns</p>\n",
              "</div>"
            ],
            "text/plain": [
              "        year origin dest  export_val  import_val                      name\n",
              "0       1962    col  civ         0.0     13000.0             Cote d'Ivoire\n",
              "1       2006    col  civ     23572.0         0.0             Cote d'Ivoire\n",
              "2       1962    col  civ     12000.0         0.0             Cote d'Ivoire\n",
              "3       1971    col  civ      9000.0         0.0             Cote d'Ivoire\n",
              "4       1972    col  civ      7000.0         0.0             Cote d'Ivoire\n",
              "...      ...    ...  ...         ...         ...                       ...\n",
              "782626  2009    col  mnp         0.0      3588.0  Northern Mariana Islands\n",
              "782627  2010    col  mnp         0.0       627.0  Northern Mariana Islands\n",
              "782628  2012    col  mnp         0.0       197.0  Northern Mariana Islands\n",
              "782629  2004    col  mnp      2170.0         0.0  Northern Mariana Islands\n",
              "782630  1999    col  mnp     42804.0         0.0  Northern Mariana Islands\n",
              "\n",
              "[782631 rows x 6 columns]"
            ]
          },
          "metadata": {
            "tags": []
          },
          "execution_count": 22
        }
      ]
    },
    {
      "cell_type": "markdown",
      "metadata": {
        "id": "lL34Py5BcpXp"
      },
      "source": [
        "Tabla de los datos reelevantes"
      ]
    },
    {
      "cell_type": "code",
      "metadata": {
        "id": "FbaGN0ROlm3z"
      },
      "source": [
        ""
      ],
      "execution_count": null,
      "outputs": []
    }
  ]
}